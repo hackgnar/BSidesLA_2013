{
 "metadata": {
  "name": ""
 },
 "nbformat": 3,
 "nbformat_minor": 0,
 "worksheets": [
  {
   "cells": [
    {
     "cell_type": "markdown",
     "metadata": {},
     "source": [
      "##Imports"
     ]
    },
    {
     "cell_type": "code",
     "collapsed": false,
     "input": [
      "import bluetooth as bt\n",
      "import bluetooth._bluetooth as bz\n",
      "from pyubertooth import ubertooth\n",
      "from pylibbtbb.bluetooth_packet import BtbbPacket\n",
      "from collections import defaultdict\n",
      "import pandas as pd\n",
      "import struct\n",
      "import datetime"
     ],
     "language": "python",
     "metadata": {},
     "outputs": [],
     "prompt_number": 94
    },
    {
     "cell_type": "markdown",
     "metadata": {},
     "source": [
      "##Discovery Scan"
     ]
    },
    {
     "cell_type": "code",
     "collapsed": false,
     "input": [
      "devices = bt.discover_devices(lookup_names=True, lookup_class=True)\n",
      "devices"
     ],
     "language": "python",
     "metadata": {},
     "outputs": [
      {
       "metadata": {},
       "output_type": "pyout",
       "prompt_number": 95,
       "text": [
        "[('50:01:BB:91:F7:81', 'eat a bag of dicks', 5898764),\n",
        " ('40:B3:95:33:63:FF', 'iPhone', 7995916)]"
       ]
      }
     ],
     "prompt_number": 95
    },
    {
     "cell_type": "markdown",
     "metadata": {},
     "source": [
      "##Name Inquiry"
     ]
    },
    {
     "cell_type": "code",
     "collapsed": false,
     "input": [
      "target_address = devices[0][0]\n",
      "bt.lookup_name(target_address)"
     ],
     "language": "python",
     "metadata": {},
     "outputs": [
      {
       "metadata": {},
       "output_type": "pyout",
       "prompt_number": 96,
       "text": [
        "'eat a bag of dicks'"
       ]
      }
     ],
     "prompt_number": 96
    },
    {
     "cell_type": "markdown",
     "metadata": {},
     "source": [
      "##Service Inquery"
     ]
    },
    {
     "cell_type": "code",
     "collapsed": false,
     "input": [
      "bt.find_service(address=target_address)"
     ],
     "language": "python",
     "metadata": {},
     "outputs": [
      {
       "metadata": {},
       "output_type": "pyout",
       "prompt_number": 97,
       "text": [
        "[{'description': None,\n",
        "  'host': '50:01:BB:91:F7:81',\n",
        "  'name': None,\n",
        "  'port': None,\n",
        "  'profiles': [('1200', 258)],\n",
        "  'protocol': None,\n",
        "  'provider': None,\n",
        "  'service-classes': ['1200'],\n",
        "  'service-id': None},\n",
        " {'description': None,\n",
        "  'host': '50:01:BB:91:F7:81',\n",
        "  'name': 'Audio Source',\n",
        "  'port': 25,\n",
        "  'profiles': [('110D', 258)],\n",
        "  'protocol': 'L2CAP',\n",
        "  'provider': None,\n",
        "  'service-classes': ['110A'],\n",
        "  'service-id': None},\n",
        " {'description': None,\n",
        "  'host': '50:01:BB:91:F7:81',\n",
        "  'name': 'AVRCP TG',\n",
        "  'port': 23,\n",
        "  'profiles': [('110E', 259)],\n",
        "  'protocol': 'L2CAP',\n",
        "  'provider': None,\n",
        "  'service-classes': ['110C'],\n",
        "  'service-id': None},\n",
        " {'description': None,\n",
        "  'host': '50:01:BB:91:F7:81',\n",
        "  'name': 'Voice Gateway',\n",
        "  'port': 11,\n",
        "  'profiles': [('1108', 258)],\n",
        "  'protocol': 'RFCOMM',\n",
        "  'provider': None,\n",
        "  'service-classes': ['1112', '1203'],\n",
        "  'service-id': None},\n",
        " {'description': None,\n",
        "  'host': '50:01:BB:91:F7:81',\n",
        "  'name': 'OBEX Object Push',\n",
        "  'port': 12,\n",
        "  'profiles': [('1105', 256)],\n",
        "  'protocol': 'RFCOMM',\n",
        "  'provider': None,\n",
        "  'service-classes': ['1105'],\n",
        "  'service-id': None},\n",
        " {'description': None,\n",
        "  'host': '50:01:BB:91:F7:81',\n",
        "  'name': 'OBEX Phonebook Access Server',\n",
        "  'port': 19,\n",
        "  'profiles': [('1130', 256)],\n",
        "  'protocol': 'RFCOMM',\n",
        "  'provider': None,\n",
        "  'service-classes': ['112F'],\n",
        "  'service-id': None},\n",
        " {'description': None,\n",
        "  'host': '50:01:BB:91:F7:81',\n",
        "  'name': 'Voice Gateway',\n",
        "  'port': 10,\n",
        "  'profiles': [('111E', 261)],\n",
        "  'protocol': 'RFCOMM',\n",
        "  'provider': None,\n",
        "  'service-classes': ['111F', '1203'],\n",
        "  'service-id': None},\n",
        " {'description': 'Network service',\n",
        "  'host': '50:01:BB:91:F7:81',\n",
        "  'name': 'Network service',\n",
        "  'port': 15,\n",
        "  'profiles': [('1116', 256)],\n",
        "  'protocol': 'L2CAP',\n",
        "  'provider': None,\n",
        "  'service-classes': ['1116'],\n",
        "  'service-id': None},\n",
        " {'description': None,\n",
        "  'host': '50:01:BB:91:F7:81',\n",
        "  'name': 'Android SMS',\n",
        "  'port': 20,\n",
        "  'profiles': [('1134', 256)],\n",
        "  'protocol': 'RFCOMM',\n",
        "  'provider': None,\n",
        "  'service-classes': ['1132'],\n",
        "  'service-id': None}]"
       ]
      }
     ],
     "prompt_number": 97
    },
    {
     "cell_type": "markdown",
     "metadata": {},
     "source": [
      "## Service Enumeration"
     ]
    },
    {
     "cell_type": "code",
     "collapsed": false,
     "input": [
      "for port in range(1,30):\n",
      "    try:\n",
      "        sock = bt.BluetoothSocket(bt.RFCOMM)\n",
      "        sock.settimeout(1)\n",
      "        sock.connect((target_address, port))\n",
      "        print \"port %i open\" % (port)\n",
      "        sock.close()\n",
      "    except Exception, ex:\n",
      "        print \"port %i closed\" % (port)"
     ],
     "language": "python",
     "metadata": {},
     "outputs": [
      {
       "output_type": "stream",
       "stream": "stdout",
       "text": [
        "port 1 closed\n",
        "port 2 closed"
       ]
      },
      {
       "output_type": "stream",
       "stream": "stdout",
       "text": [
        "\n",
        "port 3 closed"
       ]
      },
      {
       "output_type": "stream",
       "stream": "stdout",
       "text": [
        "\n",
        "port 4 closed"
       ]
      },
      {
       "output_type": "stream",
       "stream": "stdout",
       "text": [
        "\n",
        "port 5 closed\n",
        "port 6 closed\n",
        "port 7 closed\n",
        "port 8 closed\n",
        "port 9 closed\n",
        "port 10 closed\n",
        "port 11 closed"
       ]
      },
      {
       "output_type": "stream",
       "stream": "stdout",
       "text": [
        "\n",
        "port 12 closed\n",
        "port 13 closed\n",
        "port 14 closed\n",
        "port 15 closed\n",
        "port 16 closed\n",
        "port 17 closed"
       ]
      },
      {
       "output_type": "stream",
       "stream": "stdout",
       "text": [
        "\n",
        "port 18 closed\n",
        "port 19 closed\n",
        "port 20 closed\n",
        "port 21 closed"
       ]
      },
      {
       "output_type": "stream",
       "stream": "stdout",
       "text": [
        "\n",
        "port 22 closed\n",
        "port 23 closed\n",
        "port 24 closed\n",
        "port 25 closed\n",
        "port 26 closed\n",
        "port 27 closed\n",
        "port 28 closed\n",
        "port 29 closed"
       ]
      },
      {
       "output_type": "stream",
       "stream": "stdout",
       "text": [
        "\n"
       ]
      }
     ],
     "prompt_number": 98
    },
    {
     "cell_type": "markdown",
     "metadata": {},
     "source": [
      "##RSSI Level"
     ]
    },
    {
     "cell_type": "code",
     "collapsed": false,
     "input": [
      "sock = bz.hci_open_dev(0)\n",
      "flt = bz.hci_filter_new()\n",
      "bz.hci_filter_all_events(flt)\n",
      "bz.hci_filter_set_ptype(flt, bz.HCI_EVENT_PKT)\n",
      "sock.setsockopt(bz.SOL_HCI, bz.HCI_FILTER, flt)\n",
      "cmd_pkt = struct.pack(\"BBBBB\", 0x33, 0x8b, 0x9e, 4, 255)\n",
      "bz.hci_send_cmd(sock, bz.OGF_LINK_CTL, bz.OCF_INQUIRY, cmd_pkt)\n",
      "now = datetime.datetime.now()\n",
      "future = now + datetime.timedelta(seconds=30)\n",
      "while now < future:\n",
      "    now = datetime.datetime.now()\n",
      "    pkt = sock.recv(255)\n",
      "    ptype, event, plen = struct.unpack(\"BBB\", pkt[:3])\n",
      "    pkt = pkt[3:]\n",
      "    nrsp = struct.unpack(\"B\", pkt[0])[0]\n",
      "    for i in range(nrsp):\n",
      "        addr = bz.ba2str(pkt[1+6*i:1+6*i+6])\n",
      "        rssi = struct.unpack(\"b\", pkt[1+13*nrsp+i])[0]\n",
      "        print \"[%s] RSSI: [%d]\" % (addr, rssi)"
     ],
     "language": "python",
     "metadata": {},
     "outputs": []
    },
    {
     "cell_type": "markdown",
     "metadata": {},
     "source": [
      "## Active Mix Example"
     ]
    },
    {
     "cell_type": "code",
     "collapsed": false,
     "input": [
      "devices = bt.discover_devices(lookup_names=True, lookup_class=True)\n",
      "device_map = dict((k, {\"name\":n,\"class\":c}) for k, n, c in devices)\n",
      "for addr in device_map.keys():\n",
      "    services = bt.find_service(address=addr)\n",
      "    device_map[addr][\"RFCOMM\"] = [p[\"port\"] for p in services if p[\"protocol\"] == \"RFCOMM\"]\n",
      "    device_map[addr][\"L2CAP\"] = [p[\"port\"] for p in services if p[\"protocol\"] == \"L2CAP\"]\n",
      "pd.DataFrame(device_map).T    "
     ],
     "language": "python",
     "metadata": {},
     "outputs": [
      {
       "html": [
        "<div style=\"max-height:1000px;max-width:1500px;overflow:auto;\">\n",
        "<table border=\"1\" class=\"dataframe\">\n",
        "  <thead>\n",
        "    <tr style=\"text-align: right;\">\n",
        "      <th></th>\n",
        "      <th>L2CAP</th>\n",
        "      <th>RFCOMM</th>\n",
        "      <th>class</th>\n",
        "      <th>name</th>\n",
        "    </tr>\n",
        "  </thead>\n",
        "  <tbody>\n",
        "    <tr>\n",
        "      <th>40:B3:95:33:63:FF</th>\n",
        "      <td> [15, 23, 23, 25]</td>\n",
        "      <td>        [2, 1, 13, 8]</td>\n",
        "      <td> 7995916</td>\n",
        "      <td>             iPhone</td>\n",
        "    </tr>\n",
        "    <tr>\n",
        "      <th>50:01:BB:91:F7:81</th>\n",
        "      <td>     [25, 23, 15]</td>\n",
        "      <td> [11, 12, 19, 10, 20]</td>\n",
        "      <td> 5898764</td>\n",
        "      <td> eat a bag of dicks</td>\n",
        "    </tr>\n",
        "  </tbody>\n",
        "</table>\n",
        "</div>"
       ],
       "metadata": {},
       "output_type": "pyout",
       "prompt_number": 99,
       "text": [
        "                              L2CAP                RFCOMM    class                name\n",
        "40:B3:95:33:63:FF  [15, 23, 23, 25]         [2, 1, 13, 8]  7995916              iPhone\n",
        "50:01:BB:91:F7:81      [25, 23, 15]  [11, 12, 19, 10, 20]  5898764  eat a bag of dicks"
       ]
      }
     ],
     "prompt_number": 99
    },
    {
     "cell_type": "markdown",
     "metadata": {},
     "source": [
      "## LAP Discovery"
     ]
    },
    {
     "cell_type": "code",
     "collapsed": true,
     "input": [
      "ut = ubertooth.Ubertooth()\n",
      "lap = None\n",
      "for data in ut.rx_stream():\n",
      "    tmp = BtbbPacket(data=data).to_dict()\n",
      "    if tmp[\"LAP\"]:\n",
      "        lap = tmp[\"LAP\"]\n",
      "        break\n",
      "print lap\n",
      "ut.close()"
     ],
     "language": "python",
     "metadata": {},
     "outputs": []
    },
    {
     "cell_type": "markdown",
     "metadata": {},
     "source": [
      "## Brute Force UAP"
     ]
    },
    {
     "cell_type": "code",
     "collapsed": false,
     "input": [
      "popular_uaps = []\n",
      "uaps = [hex(i)[2:].zfill(2).upper() for i in range(256)]\n",
      "uaps = popular_uaps + uaps\n",
      "ut = ubertooth.Ubertooth()\n",
      "lap = None\n",
      "for data in ut.rx_stream():\n",
      "    tmp = BtbbPacket(data=data).to_dict()\n",
      "    if tmp[\"LAP\"]:\n",
      "        lap = tmp[\"LAP\"].upper()\n",
      "        break\n",
      "ut.close() \n",
      "\n",
      "print \"Brute Force on Lap %s\" % (lap)\n",
      "\n",
      "for uap in uaps:\n",
      "    device_address = \"00:00:%s:%s\" % (uap, lap)\n",
      "    result = bt.lookup_name(device_address, timeout=3)\n",
      "    if result:\n",
      "        print \"Found: %s %s\" % (device_address, result)\n",
      "        break"
     ],
     "language": "python",
     "metadata": {},
     "outputs": []
    },
    {
     "cell_type": "markdown",
     "metadata": {},
     "source": [
      "## Packet Volume"
     ]
    },
    {
     "cell_type": "code",
     "collapsed": false,
     "input": [
      "ut = ubertooth.Ubertooth()\n",
      "laps = defaultdict(int)\n",
      "for data in ut.rx_stream(secs = 30):\n",
      "    tmp = BtbbPacket(data=data).to_dict()\n",
      "    if tmp[\"LAP\"]:\n",
      "        laps[tmp[\"LAP\"]] += 1\n",
      "ut.close()\n",
      "df = pd.DataFrame(laps)\n",
      "if df:\n",
      "    df.plot(kind=\"barh\")"
     ],
     "language": "python",
     "metadata": {},
     "outputs": []
    }
   ],
   "metadata": {}
  }
 ]
}